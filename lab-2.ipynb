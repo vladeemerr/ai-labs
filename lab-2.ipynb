{
  "nbformat": 4,
  "nbformat_minor": 0,
  "metadata": {
    "colab": {
      "provenance": []
    },
    "kernelspec": {
      "name": "python3",
      "display_name": "Python 3"
    },
    "language_info": {
      "name": "python"
    }
  },
  "cells": [
    {
      "cell_type": "markdown",
      "source": [
        "# 2. Global optimization and metaheuristic algortihms"
      ],
      "metadata": {
        "id": "y9DU-VYfybkh"
      }
    },
    {
      "cell_type": "markdown",
      "source": [
        "Installing Pygmo 2.19.0 specifically for the reason that documentation samples don't compile for latest version available. Uhhhh~~~"
      ],
      "metadata": {
        "id": "dweMT5g_yoXE"
      }
    },
    {
      "cell_type": "code",
      "source": [
        "!pip install pygmo==2.19.0"
      ],
      "metadata": {
        "colab": {
          "base_uri": "https://localhost:8080/"
        },
        "id": "HGHE_VaMyJpG",
        "outputId": "426139c7-706c-47a8-a811-81375f5d3986"
      },
      "execution_count": 2,
      "outputs": [
        {
          "output_type": "stream",
          "name": "stdout",
          "text": [
            "Collecting pygmo==2.19.0\n",
            "  Downloading pygmo-2.19.0-cp310-cp310-manylinux_2_28_x86_64.whl.metadata (978 bytes)\n",
            "Requirement already satisfied: numpy in /usr/local/lib/python3.10/dist-packages (from pygmo==2.19.0) (1.26.4)\n",
            "Requirement already satisfied: cloudpickle in /usr/local/lib/python3.10/dist-packages (from pygmo==2.19.0) (3.1.0)\n",
            "Requirement already satisfied: scipy in /usr/local/lib/python3.10/dist-packages (from pygmo==2.19.0) (1.13.1)\n",
            "Downloading pygmo-2.19.0-cp310-cp310-manylinux_2_28_x86_64.whl (14.7 MB)\n",
            "\u001b[2K   \u001b[90m━━━━━━━━━━━━━━━━━━━━━━━━━━━━━━━━━━━━━━━━\u001b[0m \u001b[32m14.7/14.7 MB\u001b[0m \u001b[31m3.1 MB/s\u001b[0m eta \u001b[36m0:00:00\u001b[0m\n",
            "\u001b[?25hInstalling collected packages: pygmo\n",
            "Successfully installed pygmo-2.19.0\n"
          ]
        }
      ]
    },
    {
      "cell_type": "code",
      "execution_count": 47,
      "metadata": {
        "id": "NuZ_l1wsxzH9"
      },
      "outputs": [],
      "source": [
        "from dataclasses import dataclass\n",
        "from typing import Callable\n",
        "import numpy as np\n",
        "import matplotlib.pyplot as plt\n",
        "import pygmo\n",
        "import pandas as pd\n",
        "from IPython.display import display\n",
        "%matplotlib inline"
      ]
    },
    {
      "cell_type": "code",
      "source": [
        "@dataclass\n",
        "class Benchmark:\n",
        "  name: str\n",
        "  f: Callable[[float, float], float] # Formula\n",
        "  gf: Callable[[float, float], np.array] # Gradient\n",
        "  minimum: tuple # Global minimum point\n",
        "  domain: tuple # Search domain per each component\n",
        "\n",
        "  def __post_init__(self):\n",
        "    self.dim = len(self.domain)\n",
        "\n",
        "  def fitness(self, X):\n",
        "    assert len(X) == self.dim\n",
        "    x, y = X\n",
        "    return [self.f(x, y)]\n",
        "\n",
        "  def get_bounds(self):\n",
        "    return ([it[0] for it in mccormick.domain],\n",
        "            [it[1] for it in mccormick.domain])\n",
        "\n",
        "  def get_name(self) -> str:\n",
        "    return self.name"
      ],
      "metadata": {
        "id": "nOFnQ9lrzhND"
      },
      "execution_count": 18,
      "outputs": []
    },
    {
      "cell_type": "code",
      "source": [
        "mccormick = Benchmark(\n",
        "  name='McCormick function',\n",
        "  f=lambda x, y: np.sin(x + y) + (x - y) ** 2 - 1.5 * x + 2.5 * y + 1,\n",
        "  gf=lambda x, y: np.array([\n",
        "    np.cos(x + y) + 2 * (x - y) - 1.5,\n",
        "    np.cos(x + y) - 2 * (x - y) + 2.5\n",
        "  ]),\n",
        "  minimum=(-0.54719, -1.54719),\n",
        "  domain=((-1.5, 4), (-3, 4))\n",
        ")"
      ],
      "metadata": {
        "id": "uZ3Np2hrzin1"
      },
      "execution_count": 19,
      "outputs": []
    },
    {
      "cell_type": "code",
      "source": [
        "booth = Benchmark(\n",
        "  name='Booth function',\n",
        "  f=lambda x, y: (x + 2 * y - 7) ** 2 + (2 * x + y - 5) ** 2,\n",
        "  gf=lambda x, y: np.array([\n",
        "    2 * (x + 2 * y - 7) + 4 * (2 * x + y - 5),\n",
        "    4 * (x + 2 * y - 7) + 2 * (2 * x + y - 5)\n",
        "  ]),\n",
        "  minimum=(1, 3),\n",
        "  domain=((-10, 10), (-10, 10))\n",
        ")"
      ],
      "metadata": {
        "id": "KDsz1uDbzlga"
      },
      "execution_count": 20,
      "outputs": []
    },
    {
      "cell_type": "code",
      "source": [
        "benchmarks = [mccormick, booth]"
      ],
      "metadata": {
        "id": "axxXlC-MZdFL"
      },
      "execution_count": 21,
      "outputs": []
    },
    {
      "cell_type": "markdown",
      "source": [
        "Declare multiagent algorithms"
      ],
      "metadata": {
        "id": "sV3Xax64Xe8O"
      }
    },
    {
      "cell_type": "code",
      "source": [
        "GENERATIONS = 100\n",
        "SIZE = 100\n",
        "\n",
        "grey_wolves = pygmo.algorithm(pygmo.gwo(gen=GENERATIONS))\n",
        "bee_colony = pygmo.algorithm(pygmo.bee_colony(gen=GENERATIONS, limit=GENERATIONS))\n",
        "cmaes = pygmo.algorithm(pygmo.cmaes(gen=GENERATIONS))\n",
        "\n",
        "algorithms = [grey_wolves, bee_colony, cmaes]"
      ],
      "metadata": {
        "id": "d0eqG8_gVsWU"
      },
      "execution_count": 22,
      "outputs": []
    },
    {
      "cell_type": "code",
      "source": [
        "for bench in benchmarks:\n",
        "  problem = pygmo.problem(bench)\n",
        "  population = pygmo.population(problem, size=SIZE)\n",
        "\n",
        "  best_xy = []\n",
        "  best_z = []\n",
        "  for algo in algorithms:\n",
        "    pop = algo.evolve(population)\n",
        "    best_xy.append(pop.champion_x)\n",
        "    best_z.append(pop.champion_f[0])\n",
        "\n",
        "  error = np.abs(np.array(best_z) - bench.f(*bench.minimum))\n",
        "  table = pd.DataFrame({'Algorithm': [a.get_name().split(':')[0] for a in algorithms],\n",
        "                        'Solution point': best_xy,\n",
        "                        'Solution value': best_z,\n",
        "                        'Absolute error': error})\n",
        "  display(table.style.set_caption(bench.name))"
      ],
      "metadata": {
        "colab": {
          "base_uri": "https://localhost:8080/",
          "height": 305
        },
        "id": "pqEC2KSHZAes",
        "outputId": "80c9b653-706c-4c6d-ed24-e1b93f6818e9"
      },
      "execution_count": 57,
      "outputs": [
        {
          "output_type": "display_data",
          "data": {
            "text/plain": [
              "<pandas.io.formats.style.Styler at 0x7bd2d40fed10>"
            ],
            "text/html": [
              "<style type=\"text/css\">\n",
              "</style>\n",
              "<table id=\"T_0eb6d\" class=\"dataframe\">\n",
              "  <caption>McCormick function</caption>\n",
              "  <thead>\n",
              "    <tr>\n",
              "      <th class=\"blank level0\" >&nbsp;</th>\n",
              "      <th id=\"T_0eb6d_level0_col0\" class=\"col_heading level0 col0\" >Algorithm</th>\n",
              "      <th id=\"T_0eb6d_level0_col1\" class=\"col_heading level0 col1\" >Solution point</th>\n",
              "      <th id=\"T_0eb6d_level0_col2\" class=\"col_heading level0 col2\" >Solution value</th>\n",
              "      <th id=\"T_0eb6d_level0_col3\" class=\"col_heading level0 col3\" >Absolute error</th>\n",
              "    </tr>\n",
              "  </thead>\n",
              "  <tbody>\n",
              "    <tr>\n",
              "      <th id=\"T_0eb6d_level0_row0\" class=\"row_heading level0 row0\" >0</th>\n",
              "      <td id=\"T_0eb6d_row0_col0\" class=\"data row0 col0\" >GWO</td>\n",
              "      <td id=\"T_0eb6d_row0_col1\" class=\"data row0 col1\" >[-0.54712133 -1.54730378]</td>\n",
              "      <td id=\"T_0eb6d_row0_col2\" class=\"data row0 col2\" >-1.913223</td>\n",
              "      <td id=\"T_0eb6d_row0_col3\" class=\"data row0 col3\" >0.000000</td>\n",
              "    </tr>\n",
              "    <tr>\n",
              "      <th id=\"T_0eb6d_level0_row1\" class=\"row_heading level0 row1\" >1</th>\n",
              "      <td id=\"T_0eb6d_row1_col0\" class=\"data row1 col0\" >ABC</td>\n",
              "      <td id=\"T_0eb6d_row1_col1\" class=\"data row1 col1\" >[-0.54719757 -1.54719757]</td>\n",
              "      <td id=\"T_0eb6d_row1_col2\" class=\"data row1 col2\" >-1.913223</td>\n",
              "      <td id=\"T_0eb6d_row1_col3\" class=\"data row1 col3\" >0.000000</td>\n",
              "    </tr>\n",
              "    <tr>\n",
              "      <th id=\"T_0eb6d_level0_row2\" class=\"row_heading level0 row2\" >2</th>\n",
              "      <td id=\"T_0eb6d_row2_col0\" class=\"data row2 col0\" >CMA-ES</td>\n",
              "      <td id=\"T_0eb6d_row2_col1\" class=\"data row2 col1\" >[-8.72638616e+19 -8.72638616e+19]</td>\n",
              "      <td id=\"T_0eb6d_row2_col2\" class=\"data row2 col2\" >-85413985886930534400.000000</td>\n",
              "      <td id=\"T_0eb6d_row2_col3\" class=\"data row2 col3\" >85413985886930534400.000000</td>\n",
              "    </tr>\n",
              "  </tbody>\n",
              "</table>\n"
            ]
          },
          "metadata": {}
        },
        {
          "output_type": "display_data",
          "data": {
            "text/plain": [
              "<pandas.io.formats.style.Styler at 0x7bd2d40fd8d0>"
            ],
            "text/html": [
              "<style type=\"text/css\">\n",
              "</style>\n",
              "<table id=\"T_be0d1\" class=\"dataframe\">\n",
              "  <caption>Booth function</caption>\n",
              "  <thead>\n",
              "    <tr>\n",
              "      <th class=\"blank level0\" >&nbsp;</th>\n",
              "      <th id=\"T_be0d1_level0_col0\" class=\"col_heading level0 col0\" >Algorithm</th>\n",
              "      <th id=\"T_be0d1_level0_col1\" class=\"col_heading level0 col1\" >Solution point</th>\n",
              "      <th id=\"T_be0d1_level0_col2\" class=\"col_heading level0 col2\" >Solution value</th>\n",
              "      <th id=\"T_be0d1_level0_col3\" class=\"col_heading level0 col3\" >Absolute error</th>\n",
              "    </tr>\n",
              "  </thead>\n",
              "  <tbody>\n",
              "    <tr>\n",
              "      <th id=\"T_be0d1_level0_row0\" class=\"row_heading level0 row0\" >0</th>\n",
              "      <td id=\"T_be0d1_row0_col0\" class=\"data row0 col0\" >GWO</td>\n",
              "      <td id=\"T_be0d1_row0_col1\" class=\"data row0 col1\" >[1.00002783 3.00002184]</td>\n",
              "      <td id=\"T_be0d1_row0_col2\" class=\"data row0 col2\" >0.000000</td>\n",
              "      <td id=\"T_be0d1_row0_col3\" class=\"data row0 col3\" >0.000000</td>\n",
              "    </tr>\n",
              "    <tr>\n",
              "      <th id=\"T_be0d1_level0_row1\" class=\"row_heading level0 row1\" >1</th>\n",
              "      <td id=\"T_be0d1_row1_col0\" class=\"data row1 col0\" >ABC</td>\n",
              "      <td id=\"T_be0d1_row1_col1\" class=\"data row1 col1\" >[0.99988923 3.00012173]</td>\n",
              "      <td id=\"T_be0d1_row1_col2\" class=\"data row1 col2\" >0.000000</td>\n",
              "      <td id=\"T_be0d1_row1_col3\" class=\"data row1 col3\" >0.000000</td>\n",
              "    </tr>\n",
              "    <tr>\n",
              "      <th id=\"T_be0d1_level0_row2\" class=\"row_heading level0 row2\" >2</th>\n",
              "      <td id=\"T_be0d1_row2_col0\" class=\"data row2 col0\" >CMA-ES</td>\n",
              "      <td id=\"T_be0d1_row2_col1\" class=\"data row2 col1\" >[1.0000053  3.00000219]</td>\n",
              "      <td id=\"T_be0d1_row2_col2\" class=\"data row2 col2\" >0.000000</td>\n",
              "      <td id=\"T_be0d1_row2_col3\" class=\"data row2 col3\" >0.000000</td>\n",
              "    </tr>\n",
              "  </tbody>\n",
              "</table>\n"
            ]
          },
          "metadata": {}
        }
      ]
    }
  ]
}